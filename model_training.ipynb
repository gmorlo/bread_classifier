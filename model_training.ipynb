{
 "cells": [
  {
   "cell_type": "code",
   "execution_count": 12,
   "id": "617c5cad",
   "metadata": {},
   "outputs": [],
   "source": [
    "import os\n",
    "from pathlib import Path\n",
    "from torchvision import transforms\n",
    "import torch"
   ]
  },
  {
   "cell_type": "code",
   "execution_count": 13,
   "id": "75266e77",
   "metadata": {},
   "outputs": [],
   "source": [
    "from utils import dataloader, engine, save_load\n",
    "from models import model_builder"
   ]
  },
  {
   "cell_type": "code",
   "execution_count": 14,
   "id": "37c552f7",
   "metadata": {},
   "outputs": [],
   "source": [
    "base_dir = Path(\"data/\")\n",
    "train_path = base_dir / 'dataset_1' / 'train'\n",
    "test_path = base_dir / 'dataset_1'/ 'test'"
   ]
  },
  {
   "cell_type": "code",
   "execution_count": 15,
   "id": "a0961cff",
   "metadata": {},
   "outputs": [
    {
     "name": "stdout",
     "output_type": "stream",
     "text": [
      "Train path: data\\dataset_1\\train\n",
      "Exists? True\n",
      "Contains: ['french_toast', 'garlic_bread']\n"
     ]
    }
   ],
   "source": [
    "print(\"Train path:\", train_path)\n",
    "print(\"Exists?\", os.path.exists(train_path))\n",
    "print(\"Contains:\", os.listdir(train_path))"
   ]
  },
  {
   "cell_type": "code",
   "execution_count": 16,
   "id": "f13923e5",
   "metadata": {},
   "outputs": [],
   "source": [
    "NUM_EPOCHS = 5\n",
    "BATCH_SIZE = 32\n",
    "HIDDEN_UNITS = 10\n",
    "LEARNING_RATE = 0.001"
   ]
  },
  {
   "cell_type": "code",
   "execution_count": 17,
   "id": "9ff11053",
   "metadata": {},
   "outputs": [
    {
     "name": "stdout",
     "output_type": "stream",
     "text": [
      "Using device: cuda\n"
     ]
    }
   ],
   "source": [
    "device = \"cuda\" if torch.cuda.is_available() else \"cpu\"\n",
    "print(\"Using device:\", device)"
   ]
  },
  {
   "cell_type": "code",
   "execution_count": 18,
   "id": "70e29ff4",
   "metadata": {},
   "outputs": [],
   "source": [
    "data_transform = transforms.Compose([\n",
    "  transforms.Resize((64, 64)),\n",
    "  transforms.ToTensor()\n",
    "])"
   ]
  },
  {
   "cell_type": "code",
   "execution_count": 19,
   "id": "f959bd7f",
   "metadata": {},
   "outputs": [],
   "source": [
    "train_dataloader, test_dataloader, class_names = dataloader.create_dataloaders(\n",
    "    test_dir=test_path,\n",
    "    train_dir=train_path,\n",
    "    transform=data_transform,\n",
    "    batch_size=BATCH_SIZE,\n",
    ")"
   ]
  },
  {
   "cell_type": "code",
   "execution_count": 20,
   "id": "866368fd",
   "metadata": {},
   "outputs": [],
   "source": [
    "model = model_builder.TinyVGG(\n",
    "    input_shape=3,\n",
    "    hidden_units=HIDDEN_UNITS,\n",
    "    output_shape=len(class_names)\n",
    ").to(device)"
   ]
  },
  {
   "cell_type": "code",
   "execution_count": 21,
   "id": "346dab2e",
   "metadata": {},
   "outputs": [],
   "source": [
    "loss_fn = torch.nn.CrossEntropyLoss()\n",
    "optimizer = torch.optim.Adam(model.parameters(),\n",
    "                             lr=LEARNING_RATE)"
   ]
  },
  {
   "cell_type": "code",
   "execution_count": null,
   "id": "074cbdb8",
   "metadata": {},
   "outputs": [
    {
     "name": "stderr",
     "output_type": "stream",
     "text": [
      "Training Epochs:  20%|██        | 1/5 [00:10<00:43, 10.88s/it]"
     ]
    },
    {
     "name": "stdout",
     "output_type": "stream",
     "text": [
      "Epoch: 1/5 | Train Loss: 0.6978 | Train Acc: 0.4489 | Test Loss: 0.6960 | Test Acc: 0.4479 |\n"
     ]
    },
    {
     "name": "stderr",
     "output_type": "stream",
     "text": [
      "Training Epochs:  40%|████      | 2/5 [00:20<00:29,  9.91s/it]"
     ]
    },
    {
     "name": "stdout",
     "output_type": "stream",
     "text": [
      "Epoch: 2/5 | Train Loss: 0.6926 | Train Acc: 0.5000 | Test Loss: 0.6920 | Test Acc: 0.4479 |\n"
     ]
    },
    {
     "name": "stderr",
     "output_type": "stream",
     "text": [
      "Training Epochs:  60%|██████    | 3/5 [00:29<00:19,  9.61s/it]"
     ]
    },
    {
     "name": "stdout",
     "output_type": "stream",
     "text": [
      "Epoch: 3/5 | Train Loss: 0.6933 | Train Acc: 0.5398 | Test Loss: 0.6903 | Test Acc: 0.6354 |\n"
     ]
    },
    {
     "name": "stderr",
     "output_type": "stream",
     "text": [
      "Training Epochs:  80%|████████  | 4/5 [00:38<00:09,  9.55s/it]"
     ]
    },
    {
     "name": "stdout",
     "output_type": "stream",
     "text": [
      "Epoch: 4/5 | Train Loss: 0.6902 | Train Acc: 0.5909 | Test Loss: 0.6911 | Test Acc: 0.4479 |\n"
     ]
    },
    {
     "name": "stderr",
     "output_type": "stream",
     "text": [
      "Training Epochs: 100%|██████████| 5/5 [00:48<00:00,  9.73s/it]"
     ]
    },
    {
     "name": "stdout",
     "output_type": "stream",
     "text": [
      "Epoch: 5/5 | Train Loss: 0.6931 | Train Acc: 0.4574 | Test Loss: 0.6834 | Test Acc: 0.5597 |\n"
     ]
    },
    {
     "name": "stderr",
     "output_type": "stream",
     "text": [
      "\n"
     ]
    },
    {
     "data": {
      "text/plain": [
       "{'train_loss': [0.6977801377123053,\n",
       "  0.6926366036588495,\n",
       "  0.6933344548398798,\n",
       "  0.6901964870366183,\n",
       "  0.693079336123033],\n",
       " 'train_acc': [0.44886363636363635,\n",
       "  0.5,\n",
       "  0.5397727272727273,\n",
       "  0.5909090909090909,\n",
       "  0.45738636363636365],\n",
       " 'test_loss': [0.696006178855896,\n",
       "  0.6920322775840759,\n",
       "  0.6903409163157145,\n",
       "  0.691084603468577,\n",
       "  0.6833632191022238],\n",
       " 'test_acc': [0.4479166666666667,\n",
       "  0.4479166666666667,\n",
       "  0.6354166666666666,\n",
       "  0.4479166666666667,\n",
       "  0.5596590909090909]}"
      ]
     },
     "execution_count": 22,
     "metadata": {},
     "output_type": "execute_result"
    }
   ],
   "source": [
    "history = engine.train(\n",
    "    model=model,\n",
    "    train_dataloader=train_dataloader,\n",
    "    test_dataloader=test_dataloader,\n",
    "    loss_fn=loss_fn,\n",
    "    optimizer=optimizer,\n",
    "    epochs=NUM_EPOCHS,\n",
    "    device=device,\n",
    ")"
   ]
  },
  {
   "cell_type": "code",
   "execution_count": 23,
   "id": "ceba28b7",
   "metadata": {},
   "outputs": [
    {
     "name": "stdout",
     "output_type": "stream",
     "text": [
      "[INFO] Saving model to: models\\tiny_vgg_model_1.pth\n"
     ]
    }
   ],
   "source": [
    "save_load.save_model(model=model,\n",
    "                 target_dir=\"models\",\n",
    "                 model_name=\"tiny_vgg_model_1.pth\")"
   ]
  }
 ],
 "metadata": {
  "kernelspec": {
   "display_name": "Python 3",
   "language": "python",
   "name": "python3"
  },
  "language_info": {
   "codemirror_mode": {
    "name": "ipython",
    "version": 3
   },
   "file_extension": ".py",
   "mimetype": "text/x-python",
   "name": "python",
   "nbconvert_exporter": "python",
   "pygments_lexer": "ipython3",
   "version": "3.13.1"
  }
 },
 "nbformat": 4,
 "nbformat_minor": 5
}
