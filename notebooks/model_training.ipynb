{
 "cells": [
  {
   "cell_type": "code",
   "execution_count": null,
   "id": "617c5cad",
   "metadata": {},
   "outputs": [],
   "source": [
    "import sys, os\n",
    "sys.path.append(os.path.abspath(os.path.join(os.getcwd(), '..')))\n",
    "# This is a hack to make sure the parent directory is in the path\n",
    "# Later model_training.ipynb will be moved to main directory"
   ]
  },
  {
   "cell_type": "code",
   "execution_count": null,
   "id": "75266e77",
   "metadata": {},
   "outputs": [],
   "source": [
    "from utils import dataloader as data_setup"
   ]
  },
  {
   "cell_type": "code",
   "execution_count": null,
   "id": "37c552f7",
   "metadata": {},
   "outputs": [],
   "source": [
    "base_dir = os.path.abspath(os.path.join(os.getcwd(), '..'))\n",
    "\n",
    "train_path = os.path.join(base_dir, 'data', 'dataset_1', 'train')\n",
    "test_path = os.path.join(base_dir, 'data', 'dataset_1', 'test')"
   ]
  },
  {
   "cell_type": "code",
   "execution_count": 10,
   "id": "a0961cff",
   "metadata": {},
   "outputs": [
    {
     "name": "stdout",
     "output_type": "stream",
     "text": [
      "Train path: c:\\Users\\gabry\\OneDrive\\Pulpit\\Own Projects\\portfolioProjects\\projekt2\\bread_classifier\\data\\dataset_1\\train\n",
      "Exists? True\n",
      "Contains: ['french_toast', 'garlic_bread']\n"
     ]
    }
   ],
   "source": [
    "print(\"Train path:\", train_path)\n",
    "print(\"Exists?\", os.path.exists(train_path))\n",
    "print(\"Contains:\", os.listdir(train_path))"
   ]
  },
  {
   "cell_type": "code",
   "execution_count": 11,
   "id": "f959bd7f",
   "metadata": {},
   "outputs": [],
   "source": [
    "train_dataloader, test_dataloader, class_names = data_setup.create_dataloaders(\n",
    "    test_dir=test_path,\n",
    "    train_dir=train_path,\n",
    "    transform=None,\n",
    "    batch_size=32,\n",
    "    num_workers=4,\n",
    ")"
   ]
  }
 ],
 "metadata": {
  "kernelspec": {
   "display_name": "Python 3",
   "language": "python",
   "name": "python3"
  },
  "language_info": {
   "codemirror_mode": {
    "name": "ipython",
    "version": 3
   },
   "file_extension": ".py",
   "mimetype": "text/x-python",
   "name": "python",
   "nbconvert_exporter": "python",
   "pygments_lexer": "ipython3",
   "version": "3.13.1"
  }
 },
 "nbformat": 4,
 "nbformat_minor": 5
}
