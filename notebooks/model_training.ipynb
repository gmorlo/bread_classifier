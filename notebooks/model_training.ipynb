{
 "cells": [
  {
   "cell_type": "code",
   "execution_count": null,
   "id": "75266e77",
   "metadata": {},
   "outputs": [],
   "source": []
  },
  {
   "cell_type": "code",
   "execution_count": null,
   "id": "f959bd7f",
   "metadata": {},
   "outputs": [],
   "source": [
    "import utils.dataloader as data_setup\n",
    "train_dataloader, test_dataloader, class_names = data_setup.create_dataloaders(\n",
    "    test_dir='data/test',\n",
    "    train_dir='data/train',\n",
    "    transform=None,\n",
    "    batch_size=32,\n",
    "    num_workers=4,\n",
    ")\n"
   ]
  }
 ],
 "metadata": {
  "kernelspec": {
   "display_name": "Python 3",
   "language": "python",
   "name": "python3"
  },
  "language_info": {
   "name": "python",
   "version": "3.13.1"
  }
 },
 "nbformat": 4,
 "nbformat_minor": 5
}
