{
 "cells": [
  {
   "cell_type": "code",
   "execution_count": null,
   "id": "eda906e6",
   "metadata": {},
   "outputs": [],
   "source": [
    "from sklearn.model_selection import train_test_split\n",
    "from collections import defaultdict\n",
    "import os\n",
    "from PIL import Image\n",
    "from pathlib import Path\n",
    "from datasets import load_dataset\n"
   ]
  },
  {
   "cell_type": "code",
   "execution_count": null,
   "id": "171dbbc9",
   "metadata": {},
   "outputs": [],
   "source": [
    "output_root = Path(\"data/\")\n",
    "selected_classes = [\"french_toast\", \"garlic_bread\", \"pretzel\", \"croissant\"]\n",
    "splits = [\"train\", \"val\", \"test\"]\n",
    "split_ratio = 0.7"
   ]
  },
  {
   "cell_type": "code",
   "execution_count": null,
   "id": "533fc10b",
   "metadata": {},
   "outputs": [],
   "source": [
    "dataset = load_dataset(\"food101\", split=\"train\")\n",
    "label_names = dataset.features[\"label\"].names\n",
    "\n",
    " "
   ]
  },
  {
   "cell_type": "code",
   "execution_count": 18,
   "id": "f8fd7bad",
   "metadata": {},
   "outputs": [
    {
     "name": "stdout",
     "output_type": "stream",
     "text": [
      "Available classes: ['apple_pie', 'baby_back_ribs', 'baklava', 'beef_carpaccio', 'beef_tartare', 'beet_salad', 'beignets', 'bibimbap', 'bread_pudding', 'breakfast_burrito', 'bruschetta', 'caesar_salad', 'cannoli', 'caprese_salad', 'carrot_cake', 'ceviche', 'cheesecake', 'cheese_plate', 'chicken_curry', 'chicken_quesadilla', 'chicken_wings', 'chocolate_cake', 'chocolate_mousse', 'churros', 'clam_chowder', 'club_sandwich', 'crab_cakes', 'creme_brulee', 'croque_madame', 'cup_cakes', 'deviled_eggs', 'donuts', 'dumplings', 'edamame', 'eggs_benedict', 'escargots', 'falafel', 'filet_mignon', 'fish_and_chips', 'foie_gras', 'french_fries', 'french_onion_soup', 'french_toast', 'fried_calamari', 'fried_rice', 'frozen_yogurt', 'garlic_bread', 'gnocchi', 'greek_salad', 'grilled_cheese_sandwich', 'grilled_salmon', 'guacamole', 'gyoza', 'hamburger', 'hot_and_sour_soup', 'hot_dog', 'huevos_rancheros', 'hummus', 'ice_cream', 'lasagna', 'lobster_bisque', 'lobster_roll_sandwich', 'macaroni_and_cheese', 'macarons', 'miso_soup', 'mussels', 'nachos', 'omelette', 'onion_rings', 'oysters', 'pad_thai', 'paella', 'pancakes', 'panna_cotta', 'peking_duck', 'pho', 'pizza', 'pork_chop', 'poutine', 'prime_rib', 'pulled_pork_sandwich', 'ramen', 'ravioli', 'red_velvet_cake', 'risotto', 'samosa', 'sashimi', 'scallops', 'seaweed_salad', 'shrimp_and_grits', 'spaghetti_bolognese', 'spaghetti_carbonara', 'spring_rolls', 'steak', 'strawberry_shortcake', 'sushi', 'tacos', 'takoyaki', 'tiramisu', 'tuna_tartare', 'waffles']\n"
     ]
    }
   ],
   "source": [
    "print(f\"Available classes: {label_names}\")"
   ]
  },
  {
   "cell_type": "code",
   "execution_count": 13,
   "id": "95ce52d1",
   "metadata": {},
   "outputs": [
    {
     "name": "stderr",
     "output_type": "stream",
     "text": [
      "c:\\Users\\gabry\\AppData\\Local\\Programs\\Python\\Python313\\Lib\\site-packages\\PIL\\TiffImagePlugin.py:949: UserWarning: Truncated File Read\n",
      "  warnings.warn(str(msg))\n"
     ]
    }
   ],
   "source": [
    "from collections import defaultdict\n",
    "\n",
    "class_images = defaultdict(list)\n",
    "class_counts = defaultdict(int)\n",
    "max_per_class = 200\n",
    "\n",
    "for i, example in enumerate(dataset):\n",
    "    label_id = example[\"label\"]\n",
    "    label_name = label_names[label_id]\n",
    "\n",
    "    if label_name in selected_classes and class_counts[label_name] < max_per_class:\n",
    "        img_id = f\"{label_name}_{i}\"\n",
    "        class_images[label_name].append((example[\"image\"], img_id))\n",
    "        class_counts[label_name] += 1\n",
    "\n",
    "    if all(class_counts[cls] >= max_per_class for cls in selected_classes):\n",
    "        break\n"
   ]
  },
  {
   "cell_type": "code",
   "execution_count": null,
   "id": "89225ec0",
   "metadata": {},
   "outputs": [
    {
     "name": "stdout",
     "output_type": "stream",
     "text": [
      "Skipped pretzel — not enough items (0)\n",
      "Skipped croissant — not enough items (0)\n"
     ]
    }
   ],
   "source": [
    "max_per_class = 100\n",
    "for cls in selected_classes:\n",
    "    items = class_images[cls][:max_per_class]\n",
    "\n",
    "    if len(items) < 2:\n",
    "        print(f\"Skipped {cls} — not enough items ({len(items)})\")\n",
    "        continue\n",
    "\n",
    "    train, temp = train_test_split(items, train_size=split_ratio, random_state=42)\n",
    "    val, test = train_test_split(temp, test_size=0.5, random_state=42)\n",
    "\n",
    "    split_data = {\"train\": train, \"val\": val, \"test\": test}\n",
    "\n",
    "    for split in splits:\n",
    "        out_dir = output_root / split / cls\n",
    "        out_dir.mkdir(parents=True, exist_ok=True)\n",
    "\n",
    "        for img, img_id in split_data[split]:\n",
    "            img_path = out_dir / f\"{img_id}.jpg\"\n",
    "            try:\n",
    "                img.save(img_path)\n",
    "            except Exception as e:\n",
    "                print(f\"Warrning {img_path}: {e}\")\n"
   ]
  }
 ],
 "metadata": {
  "kernelspec": {
   "display_name": "Python 3",
   "language": "python",
   "name": "python3"
  },
  "language_info": {
   "codemirror_mode": {
    "name": "ipython",
    "version": 3
   },
   "file_extension": ".py",
   "mimetype": "text/x-python",
   "name": "python",
   "nbconvert_exporter": "python",
   "pygments_lexer": "ipython3",
   "version": "3.13.1"
  }
 },
 "nbformat": 4,
 "nbformat_minor": 5
}
