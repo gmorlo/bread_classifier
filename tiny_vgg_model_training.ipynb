{
 "cells": [
  {
   "cell_type": "code",
   "execution_count": 1,
   "id": "617c5cad",
   "metadata": {},
   "outputs": [],
   "source": [
    "import os\n",
    "from pathlib import Path\n",
    "from torchvision import transforms\n",
    "import torch"
   ]
  },
  {
   "cell_type": "code",
   "execution_count": 2,
   "id": "75266e77",
   "metadata": {},
   "outputs": [
    {
     "name": "stderr",
     "output_type": "stream",
     "text": [
      "c:\\Users\\gabry\\AppData\\Local\\Programs\\Python\\Python313\\Lib\\site-packages\\tqdm\\auto.py:21: TqdmWarning: IProgress not found. Please update jupyter and ipywidgets. See https://ipywidgets.readthedocs.io/en/stable/user_install.html\n",
      "  from .autonotebook import tqdm as notebook_tqdm\n"
     ]
    }
   ],
   "source": [
    "from utils import dataloader, engine, save_load\n",
    "from models import model_builder"
   ]
  },
  {
   "cell_type": "code",
   "execution_count": 3,
   "id": "37c552f7",
   "metadata": {},
   "outputs": [],
   "source": [
    "base_dir = Path(\"data/\")\n",
    "train_path = base_dir / 'dataset_1' / 'train'\n",
    "test_path = base_dir / 'dataset_1'/ 'test'"
   ]
  },
  {
   "cell_type": "code",
   "execution_count": 4,
   "id": "a0961cff",
   "metadata": {},
   "outputs": [
    {
     "name": "stdout",
     "output_type": "stream",
     "text": [
      "Train path: data\\dataset_1\\train\n",
      "Exists? True\n",
      "Contains: ['french_toast', 'garlic_bread']\n"
     ]
    }
   ],
   "source": [
    "print(\"Train path:\", train_path)\n",
    "print(\"Exists?\", os.path.exists(train_path))\n",
    "print(\"Contains:\", os.listdir(train_path))"
   ]
  },
  {
   "cell_type": "code",
   "execution_count": 5,
   "id": "f13923e5",
   "metadata": {},
   "outputs": [],
   "source": [
    "NUM_EPOCHS = 30\n",
    "BATCH_SIZE = 32\n",
    "HIDDEN_UNITS = 64\n",
    "LEARNING_RATE = 0.0001"
   ]
  },
  {
   "cell_type": "code",
   "execution_count": 6,
   "id": "9ff11053",
   "metadata": {},
   "outputs": [
    {
     "name": "stdout",
     "output_type": "stream",
     "text": [
      "Using device: cuda\n"
     ]
    }
   ],
   "source": [
    "device = \"cuda\" if torch.cuda.is_available() else \"cpu\"\n",
    "print(\"Using device:\", device)"
   ]
  },
  {
   "cell_type": "code",
   "execution_count": 7,
   "id": "70e29ff4",
   "metadata": {},
   "outputs": [],
   "source": [
    "data_transform = transforms.Compose([\n",
    "  transforms.Resize((64, 64)),\n",
    "  transforms.ToTensor()\n",
    "])"
   ]
  },
  {
   "cell_type": "code",
   "execution_count": 8,
   "id": "f959bd7f",
   "metadata": {},
   "outputs": [],
   "source": [
    "train_dataloader, test_dataloader, class_names = dataloader.create_dataloaders(\n",
    "    test_dir=test_path,\n",
    "    train_dir=train_path,\n",
    "    transform=data_transform,\n",
    "    batch_size=BATCH_SIZE,\n",
    ")"
   ]
  },
  {
   "cell_type": "code",
   "execution_count": 9,
   "id": "866368fd",
   "metadata": {},
   "outputs": [],
   "source": [
    "model = model_builder.TinyVGG(\n",
    "    input_shape=3,\n",
    "    hidden_units=HIDDEN_UNITS,\n",
    "    output_shape=len(class_names)\n",
    ").to(device)"
   ]
  },
  {
   "cell_type": "code",
   "execution_count": 10,
   "id": "346dab2e",
   "metadata": {},
   "outputs": [],
   "source": [
    "loss_fn = torch.nn.CrossEntropyLoss()\n",
    "optimizer = torch.optim.Adam(model.parameters(),\n",
    "                             lr=LEARNING_RATE)"
   ]
  },
  {
   "cell_type": "code",
   "execution_count": 11,
   "id": "074cbdb8",
   "metadata": {},
   "outputs": [
    {
     "name": "stderr",
     "output_type": "stream",
     "text": [
      "Training Epochs:   3%|▎         | 1/30 [00:10<05:08, 10.62s/it]"
     ]
    },
    {
     "name": "stdout",
     "output_type": "stream",
     "text": [
      "Epoch: 1/30 | Train Loss: 0.6912 | Train Acc: 0.5398 | Test Loss: 0.6938 | Test Acc: 0.4479 |\n"
     ]
    },
    {
     "name": "stderr",
     "output_type": "stream",
     "text": [
      "Training Epochs:   7%|▋         | 2/30 [00:21<04:53, 10.49s/it]"
     ]
    },
    {
     "name": "stdout",
     "output_type": "stream",
     "text": [
      "Epoch: 2/30 | Train Loss: 0.6918 | Train Acc: 0.5000 | Test Loss: 0.6971 | Test Acc: 0.4479 |\n"
     ]
    },
    {
     "name": "stderr",
     "output_type": "stream",
     "text": [
      "Training Epochs:  10%|█         | 3/30 [00:32<04:49, 10.73s/it]"
     ]
    },
    {
     "name": "stdout",
     "output_type": "stream",
     "text": [
      "Epoch: 3/30 | Train Loss: 0.6869 | Train Acc: 0.5000 | Test Loss: 0.6862 | Test Acc: 0.5445 |\n"
     ]
    },
    {
     "name": "stderr",
     "output_type": "stream",
     "text": [
      "Training Epochs:  13%|█▎        | 4/30 [00:42<04:39, 10.77s/it]"
     ]
    },
    {
     "name": "stdout",
     "output_type": "stream",
     "text": [
      "Epoch: 4/30 | Train Loss: 0.6785 | Train Acc: 0.5852 | Test Loss: 0.6765 | Test Acc: 0.6307 |\n"
     ]
    },
    {
     "name": "stderr",
     "output_type": "stream",
     "text": [
      "Training Epochs:  17%|█▋        | 5/30 [00:54<04:36, 11.07s/it]"
     ]
    },
    {
     "name": "stdout",
     "output_type": "stream",
     "text": [
      "Epoch: 5/30 | Train Loss: 0.6705 | Train Acc: 0.6420 | Test Loss: 0.6501 | Test Acc: 0.7330 |\n"
     ]
    },
    {
     "name": "stderr",
     "output_type": "stream",
     "text": [
      "Training Epochs:  20%|██        | 6/30 [01:05<04:25, 11.07s/it]"
     ]
    },
    {
     "name": "stdout",
     "output_type": "stream",
     "text": [
      "Epoch: 6/30 | Train Loss: 0.6172 | Train Acc: 0.7301 | Test Loss: 0.6977 | Test Acc: 0.5341 |\n"
     ]
    },
    {
     "name": "stderr",
     "output_type": "stream",
     "text": [
      "Training Epochs:  23%|██▎       | 7/30 [01:16<04:12, 11.00s/it]"
     ]
    },
    {
     "name": "stdout",
     "output_type": "stream",
     "text": [
      "Epoch: 7/30 | Train Loss: 0.6690 | Train Acc: 0.5795 | Test Loss: 0.5856 | Test Acc: 0.7727 |\n"
     ]
    },
    {
     "name": "stderr",
     "output_type": "stream",
     "text": [
      "Training Epochs:  27%|██▋       | 8/30 [01:26<03:52, 10.57s/it]"
     ]
    },
    {
     "name": "stdout",
     "output_type": "stream",
     "text": [
      "Epoch: 8/30 | Train Loss: 0.6208 | Train Acc: 0.6619 | Test Loss: 0.5753 | Test Acc: 0.7775 |\n"
     ]
    },
    {
     "name": "stderr",
     "output_type": "stream",
     "text": [
      "Training Epochs:  30%|███       | 9/30 [01:36<03:39, 10.45s/it]"
     ]
    },
    {
     "name": "stdout",
     "output_type": "stream",
     "text": [
      "Epoch: 9/30 | Train Loss: 0.6212 | Train Acc: 0.6392 | Test Loss: 0.5816 | Test Acc: 0.7074 |\n"
     ]
    },
    {
     "name": "stderr",
     "output_type": "stream",
     "text": [
      "Training Epochs:  33%|███▎      | 10/30 [01:46<03:27, 10.39s/it]"
     ]
    },
    {
     "name": "stdout",
     "output_type": "stream",
     "text": [
      "Epoch: 10/30 | Train Loss: 0.5661 | Train Acc: 0.7131 | Test Loss: 0.5388 | Test Acc: 0.7888 |\n"
     ]
    },
    {
     "name": "stderr",
     "output_type": "stream",
     "text": [
      "Training Epochs:  37%|███▋      | 11/30 [01:57<03:18, 10.46s/it]"
     ]
    },
    {
     "name": "stdout",
     "output_type": "stream",
     "text": [
      "Epoch: 11/30 | Train Loss: 0.5843 | Train Acc: 0.6960 | Test Loss: 0.5331 | Test Acc: 0.7528 |\n"
     ]
    },
    {
     "name": "stderr",
     "output_type": "stream",
     "text": [
      "Training Epochs:  40%|████      | 12/30 [02:07<03:09, 10.54s/it]"
     ]
    },
    {
     "name": "stdout",
     "output_type": "stream",
     "text": [
      "Epoch: 12/30 | Train Loss: 0.5371 | Train Acc: 0.7443 | Test Loss: 0.5348 | Test Acc: 0.7225 |\n"
     ]
    },
    {
     "name": "stderr",
     "output_type": "stream",
     "text": [
      "Training Epochs:  43%|████▎     | 13/30 [02:18<02:59, 10.56s/it]"
     ]
    },
    {
     "name": "stdout",
     "output_type": "stream",
     "text": [
      "Epoch: 13/30 | Train Loss: 0.6257 | Train Acc: 0.6875 | Test Loss: 0.5001 | Test Acc: 0.7775 |\n"
     ]
    },
    {
     "name": "stderr",
     "output_type": "stream",
     "text": [
      "Training Epochs:  47%|████▋     | 14/30 [02:28<02:45, 10.37s/it]"
     ]
    },
    {
     "name": "stdout",
     "output_type": "stream",
     "text": [
      "Epoch: 14/30 | Train Loss: 0.5664 | Train Acc: 0.6903 | Test Loss: 0.5246 | Test Acc: 0.7528 |\n"
     ]
    },
    {
     "name": "stderr",
     "output_type": "stream",
     "text": [
      "Training Epochs:  50%|█████     | 15/30 [02:40<02:43, 10.89s/it]"
     ]
    },
    {
     "name": "stdout",
     "output_type": "stream",
     "text": [
      "Epoch: 15/30 | Train Loss: 0.5701 | Train Acc: 0.7159 | Test Loss: 0.5278 | Test Acc: 0.7225 |\n"
     ]
    },
    {
     "name": "stderr",
     "output_type": "stream",
     "text": [
      "Training Epochs:  53%|█████▎    | 16/30 [02:52<02:36, 11.17s/it]"
     ]
    },
    {
     "name": "stdout",
     "output_type": "stream",
     "text": [
      "Epoch: 16/30 | Train Loss: 0.5721 | Train Acc: 0.6790 | Test Loss: 0.5073 | Test Acc: 0.7680 |\n"
     ]
    },
    {
     "name": "stderr",
     "output_type": "stream",
     "text": [
      "Training Epochs:  57%|█████▋    | 17/30 [03:05<02:32, 11.70s/it]"
     ]
    },
    {
     "name": "stdout",
     "output_type": "stream",
     "text": [
      "Epoch: 17/30 | Train Loss: 0.5049 | Train Acc: 0.7670 | Test Loss: 0.5075 | Test Acc: 0.7737 |\n"
     ]
    },
    {
     "name": "stderr",
     "output_type": "stream",
     "text": [
      "Training Epochs:  60%|██████    | 18/30 [03:15<02:16, 11.34s/it]"
     ]
    },
    {
     "name": "stdout",
     "output_type": "stream",
     "text": [
      "Epoch: 18/30 | Train Loss: 0.5772 | Train Acc: 0.6847 | Test Loss: 0.4711 | Test Acc: 0.7737 |\n"
     ]
    },
    {
     "name": "stderr",
     "output_type": "stream",
     "text": [
      "Training Epochs:  63%|██████▎   | 19/30 [03:25<01:59, 10.89s/it]"
     ]
    },
    {
     "name": "stdout",
     "output_type": "stream",
     "text": [
      "Epoch: 19/30 | Train Loss: 0.5239 | Train Acc: 0.7386 | Test Loss: 0.4693 | Test Acc: 0.7841 |\n"
     ]
    },
    {
     "name": "stderr",
     "output_type": "stream",
     "text": [
      "Training Epochs:  67%|██████▋   | 20/30 [03:35<01:44, 10.49s/it]"
     ]
    },
    {
     "name": "stdout",
     "output_type": "stream",
     "text": [
      "Epoch: 20/30 | Train Loss: 0.4733 | Train Acc: 0.7727 | Test Loss: 0.4621 | Test Acc: 0.7633 |\n"
     ]
    },
    {
     "name": "stderr",
     "output_type": "stream",
     "text": [
      "Training Epochs:  70%|███████   | 21/30 [03:44<01:32, 10.25s/it]"
     ]
    },
    {
     "name": "stdout",
     "output_type": "stream",
     "text": [
      "Epoch: 21/30 | Train Loss: 0.4624 | Train Acc: 0.7642 | Test Loss: 0.5298 | Test Acc: 0.7330 |\n"
     ]
    },
    {
     "name": "stderr",
     "output_type": "stream",
     "text": [
      "Training Epochs:  73%|███████▎  | 22/30 [03:54<01:20, 10.07s/it]"
     ]
    },
    {
     "name": "stdout",
     "output_type": "stream",
     "text": [
      "Epoch: 22/30 | Train Loss: 0.5111 | Train Acc: 0.7074 | Test Loss: 0.4273 | Test Acc: 0.7727 |\n"
     ]
    },
    {
     "name": "stderr",
     "output_type": "stream",
     "text": [
      "Training Epochs:  77%|███████▋  | 23/30 [04:04<01:09,  9.96s/it]"
     ]
    },
    {
     "name": "stdout",
     "output_type": "stream",
     "text": [
      "Epoch: 23/30 | Train Loss: 0.4729 | Train Acc: 0.7443 | Test Loss: 0.4180 | Test Acc: 0.8087 |\n"
     ]
    },
    {
     "name": "stderr",
     "output_type": "stream",
     "text": [
      "Training Epochs:  80%|████████  | 24/30 [04:15<01:01, 10.25s/it]"
     ]
    },
    {
     "name": "stdout",
     "output_type": "stream",
     "text": [
      "Epoch: 24/30 | Train Loss: 0.5182 | Train Acc: 0.7557 | Test Loss: 0.5044 | Test Acc: 0.7074 |\n"
     ]
    },
    {
     "name": "stderr",
     "output_type": "stream",
     "text": [
      "Training Epochs:  83%|████████▎ | 25/30 [04:25<00:51, 10.20s/it]"
     ]
    },
    {
     "name": "stdout",
     "output_type": "stream",
     "text": [
      "Epoch: 25/30 | Train Loss: 0.5151 | Train Acc: 0.7386 | Test Loss: 0.4783 | Test Acc: 0.7661 |\n"
     ]
    },
    {
     "name": "stderr",
     "output_type": "stream",
     "text": [
      "Training Epochs:  87%|████████▋ | 26/30 [04:34<00:40, 10.03s/it]"
     ]
    },
    {
     "name": "stdout",
     "output_type": "stream",
     "text": [
      "Epoch: 26/30 | Train Loss: 0.4651 | Train Acc: 0.7955 | Test Loss: 0.5576 | Test Acc: 0.6922 |\n"
     ]
    },
    {
     "name": "stderr",
     "output_type": "stream",
     "text": [
      "Training Epochs:  90%|█████████ | 27/30 [04:44<00:29,  9.87s/it]"
     ]
    },
    {
     "name": "stdout",
     "output_type": "stream",
     "text": [
      "Epoch: 27/30 | Train Loss: 0.4831 | Train Acc: 0.7585 | Test Loss: 0.4664 | Test Acc: 0.7661 |\n"
     ]
    },
    {
     "name": "stderr",
     "output_type": "stream",
     "text": [
      "Training Epochs:  93%|█████████▎| 28/30 [04:53<00:19,  9.81s/it]"
     ]
    },
    {
     "name": "stdout",
     "output_type": "stream",
     "text": [
      "Epoch: 28/30 | Train Loss: 0.4461 | Train Acc: 0.8011 | Test Loss: 0.5419 | Test Acc: 0.6922 |\n"
     ]
    },
    {
     "name": "stderr",
     "output_type": "stream",
     "text": [
      "Training Epochs:  97%|█████████▋| 29/30 [05:03<00:09,  9.76s/it]"
     ]
    },
    {
     "name": "stdout",
     "output_type": "stream",
     "text": [
      "Epoch: 29/30 | Train Loss: 0.4578 | Train Acc: 0.7756 | Test Loss: 0.4471 | Test Acc: 0.7973 |\n"
     ]
    },
    {
     "name": "stderr",
     "output_type": "stream",
     "text": [
      "Training Epochs: 100%|██████████| 30/30 [05:14<00:00, 10.47s/it]"
     ]
    },
    {
     "name": "stdout",
     "output_type": "stream",
     "text": [
      "Epoch: 30/30 | Train Loss: 0.4979 | Train Acc: 0.7841 | Test Loss: 0.5028 | Test Acc: 0.7178 |\n"
     ]
    },
    {
     "name": "stderr",
     "output_type": "stream",
     "text": [
      "\n"
     ]
    }
   ],
   "source": [
    "history = engine.train(\n",
    "    model=model,\n",
    "    train_dataloader=train_dataloader,\n",
    "    test_dataloader=test_dataloader,\n",
    "    loss_fn=loss_fn,\n",
    "    optimizer=optimizer,\n",
    "    epochs=NUM_EPOCHS,\n",
    "    device=device,\n",
    ")"
   ]
  },
  {
   "cell_type": "code",
   "execution_count": 12,
   "id": "ceba28b7",
   "metadata": {},
   "outputs": [
    {
     "name": "stdout",
     "output_type": "stream",
     "text": [
      "[INFO] Saving model to: models\\tiny_vgg_model_1.pth\n"
     ]
    }
   ],
   "source": [
    "save_load.save_model(model=model,\n",
    "                 target_dir=\"models\",\n",
    "                 model_name=\"tiny_vgg_model_1.pth\")"
   ]
  },
  {
   "cell_type": "code",
   "execution_count": 13,
   "id": "00840aa7",
   "metadata": {},
   "outputs": [
    {
     "data": {
      "image/png": "[encoded data removed]",
      "text/plain": [
       "<Figure size 1200x600 with 2 Axes>"
      ]
     },
     "metadata": {},
     "output_type": "display_data"
    }
   ],
   "source": [
    "from utils.plots import plot_loss_curves\n",
    "\n",
    "plot_loss_curves(history)"
   ]
  },
  {
   "cell_type": "code",
   "execution_count": null,
   "id": "1e59d5d5",
   "metadata": {},
   "outputs": [
    {
     "ename": "ImportError",
     "evalue": "cannot import name 'evaluate_model' from 'utils.plots' (c:\\Users\\gabry\\OneDrive\\Pulpit\\Own Projects\\portfolioProjects\\projekt2\\bread_classifier\\utils\\plots.py)",
     "output_type": "error",
     "traceback": [
      "\u001b[1;31m---------------------------------------------------------------------------\u001b[0m",
      "\u001b[1;31mImportError\u001b[0m                               Traceback (most recent call last)",
      "Cell \u001b[1;32mIn[14], line 1\u001b[0m\n\u001b[1;32m----> 1\u001b[0m \u001b[38;5;28;01mfrom\u001b[39;00m\u001b[38;5;250m \u001b[39m\u001b[38;5;21;01mutils\u001b[39;00m\u001b[38;5;21;01m.\u001b[39;00m\u001b[38;5;21;01mplots\u001b[39;00m\u001b[38;5;250m \u001b[39m\u001b[38;5;28;01mimport\u001b[39;00m evaluate_model\n\u001b[0;32m      2\u001b[0m evaluate_model(model, test_dataloader, class_names, device)\n",
      "\u001b[1;31mImportError\u001b[0m: cannot import name 'evaluate_model' from 'utils.plots' (c:\\Users\\gabry\\OneDrive\\Pulpit\\Own Projects\\portfolioProjects\\projekt2\\bread_classifier\\utils\\plots.py)"
     ]
    }
   ],
   "source": [
    "from utils.plots import evaluate_model\n",
    "evaluate_model(model, test_dataloader, class_names, device)"
   ]
  }
 ],
 "metadata": {
  "kernelspec": {
   "display_name": "Python 3",
   "language": "python",
   "name": "python3"
  },
  "language_info": {
   "codemirror_mode": {
    "name": "ipython",
    "version": 3
   },
   "file_extension": ".py",
   "mimetype": "text/x-python",
   "name": "python",
   "nbconvert_exporter": "python",
   "pygments_lexer": "ipython3",
   "version": "3.13.1"
  }
 },
 "nbformat": 4,
 "nbformat_minor": 5
}
